{
  "cells": [
    {
      "cell_type": "markdown",
      "source": [
        "#  Date time in python"
      ],
      "metadata": {
        "id": "cjYkqevZ6Hhq"
      }
    },
    {
      "cell_type": "code",
      "execution_count": null,
      "metadata": {
        "id": "vDYr5oHE3sAD"
      },
      "outputs": [],
      "source": [
        "import datetime # datetime library"
      ]
    },
    {
      "cell_type": "code",
      "execution_count": null,
      "metadata": {
        "id": "UUE17hc_3sAH"
      },
      "outputs": [],
      "source": [
        "x=datetime.date(2015, 9, 4) # Values will be converted into date"
      ]
    },
    {
      "cell_type": "code",
      "execution_count": null,
      "metadata": {
        "colab": {
          "base_uri": "https://localhost:8080/"
        },
        "id": "FeIPq8GS3sAH",
        "outputId": "3af92504-ce17-4040-f4a8-582c766432b0"
      },
      "outputs": [
        {
          "output_type": "stream",
          "name": "stdout",
          "text": [
            "2015-09-04\n"
          ]
        }
      ],
      "source": [
        "print(x)"
      ]
    },
    {
      "cell_type": "code",
      "execution_count": null,
      "metadata": {
        "id": "XEnvIVKP3sAI"
      },
      "outputs": [],
      "source": [
        "tday=datetime.date.today()"
      ]
    },
    {
      "cell_type": "code",
      "execution_count": null,
      "metadata": {
        "colab": {
          "base_uri": "https://localhost:8080/"
        },
        "id": "UUN_4pIQ3sAJ",
        "outputId": "9b282cc9-5761-4561-d72e-018d826a6df4"
      },
      "outputs": [
        {
          "output_type": "stream",
          "name": "stdout",
          "text": [
            "2022-04-26\n"
          ]
        }
      ],
      "source": [
        "print(tday)"
      ]
    },
    {
      "cell_type": "code",
      "execution_count": null,
      "metadata": {
        "colab": {
          "base_uri": "https://localhost:8080/"
        },
        "id": "Dq9MYvxM3sAJ",
        "outputId": "e4056457-fbd6-4b04-a625-b4b432083fd1"
      },
      "outputs": [
        {
          "output_type": "stream",
          "name": "stdout",
          "text": [
            "4\n"
          ]
        }
      ],
      "source": [
        "print(tday.month)"
      ]
    },
    {
      "cell_type": "code",
      "execution_count": null,
      "metadata": {
        "colab": {
          "base_uri": "https://localhost:8080/"
        },
        "id": "RugAFf7J3sAK",
        "outputId": "2b8d798f-92b6-41a2-c7a6-174ed995a7fb"
      },
      "outputs": [
        {
          "output_type": "stream",
          "name": "stdout",
          "text": [
            "2022\n"
          ]
        }
      ],
      "source": [
        "print(tday.year)"
      ]
    },
    {
      "cell_type": "code",
      "source": [
        "type(tday)"
      ],
      "metadata": {
        "colab": {
          "base_uri": "https://localhost:8080/"
        },
        "id": "2Vs8uAQ64Efy",
        "outputId": "a2d77825-211b-49fb-c8bd-9960ba1a6d72"
      },
      "execution_count": null,
      "outputs": [
        {
          "output_type": "execute_result",
          "data": {
            "text/plain": [
              "datetime.date"
            ]
          },
          "metadata": {},
          "execution_count": 8
        }
      ]
    },
    {
      "cell_type": "code",
      "source": [
        "Old = tday.year - x.year\n",
        "print(Old)"
      ],
      "metadata": {
        "colab": {
          "base_uri": "https://localhost:8080/"
        },
        "id": "fxi6hSFy6m8L",
        "outputId": "78975120-0677-462d-9a41-b7086164f49f"
      },
      "execution_count": null,
      "outputs": [
        {
          "output_type": "stream",
          "name": "stdout",
          "text": [
            "7\n"
          ]
        }
      ]
    },
    {
      "cell_type": "code",
      "execution_count": null,
      "metadata": {
        "id": "-v8SE8Ad3sAL"
      },
      "outputs": [],
      "source": [
        "x= datetime.datetime.now()"
      ]
    },
    {
      "cell_type": "code",
      "execution_count": null,
      "metadata": {
        "colab": {
          "base_uri": "https://localhost:8080/"
        },
        "id": "Lw_5rgW93sAL",
        "outputId": "86f4c9e7-0244-4823-ad2a-d5a7d6694c14"
      },
      "outputs": [
        {
          "output_type": "stream",
          "name": "stdout",
          "text": [
            "Monday\n"
          ]
        }
      ],
      "source": [
        "print(x)"
      ]
    },
    {
      "cell_type": "code",
      "execution_count": null,
      "metadata": {
        "colab": {
          "base_uri": "https://localhost:8080/"
        },
        "id": "GC0EjT_R3sAM",
        "outputId": "f9909e85-022c-4cbe-f094-2737173ffa92"
      },
      "outputs": [
        {
          "output_type": "stream",
          "name": "stdout",
          "text": [
            "Monday\n"
          ]
        }
      ],
      "source": [
        "print(x.strftime(\"%A\"))"
      ]
    },
    {
      "cell_type": "code",
      "execution_count": null,
      "metadata": {
        "colab": {
          "base_uri": "https://localhost:8080/"
        },
        "id": "Wm96v8sg3sAN",
        "outputId": "61c95f5b-b323-4513-8ca2-04ebbc96a9ca"
      },
      "outputs": [
        {
          "output_type": "stream",
          "name": "stdout",
          "text": [
            "September\n"
          ]
        }
      ],
      "source": [
        "print(x.strftime(\"%B\"))"
      ]
    },
    {
      "cell_type": "code",
      "execution_count": null,
      "metadata": {
        "colab": {
          "base_uri": "https://localhost:8080/"
        },
        "id": "fI7Jpgc53sAO",
        "outputId": "b126cda0-e4bf-44c4-8e10-e0a02f3a76ba"
      },
      "outputs": [
        {
          "output_type": "stream",
          "name": "stdout",
          "text": [
            "Fri\n"
          ]
        }
      ],
      "source": [
        "print(x.strftime(\"%a\"))"
      ]
    },
    {
      "cell_type": "code",
      "execution_count": null,
      "metadata": {
        "colab": {
          "base_uri": "https://localhost:8080/"
        },
        "id": "hbyWUGZX3sAO",
        "outputId": "7ec5cf50-40bd-4701-98ba-0672d8ba5da7"
      },
      "outputs": [
        {
          "output_type": "stream",
          "name": "stdout",
          "text": [
            "6\n"
          ]
        }
      ],
      "source": [
        "print(x.strftime(\"%w\"))"
      ]
    },
    {
      "cell_type": "code",
      "execution_count": null,
      "metadata": {
        "id": "tkyanR9A3sAO",
        "outputId": "72b5f9b1-702e-4481-e1a9-9c87e40d97d4"
      },
      "outputs": [
        {
          "name": "stdout",
          "output_type": "stream",
          "text": [
            "22\n"
          ]
        }
      ],
      "source": [
        "print(x.strftime(\"%d\"))"
      ]
    },
    {
      "cell_type": "code",
      "execution_count": null,
      "metadata": {
        "id": "prHDDCXb3sAP",
        "outputId": "c152de5b-e49c-400e-a4b8-a1849b90465a"
      },
      "outputs": [
        {
          "name": "stdout",
          "output_type": "stream",
          "text": [
            "Oct\n"
          ]
        }
      ],
      "source": [
        "print(x.strftime(\"%b\"))"
      ]
    },
    {
      "cell_type": "code",
      "execution_count": null,
      "metadata": {
        "id": "iqGNr4Eq3sAP",
        "outputId": "6822ecd0-6ac9-4ecf-c4b7-1a85ddb2480f"
      },
      "outputs": [
        {
          "name": "stdout",
          "output_type": "stream",
          "text": [
            "10\n"
          ]
        }
      ],
      "source": [
        "print(x.strftime(\"%m\")) # "
      ]
    },
    {
      "cell_type": "code",
      "execution_count": null,
      "metadata": {
        "id": "VSd9BJ9R3sAP",
        "outputId": "51baff18-1888-4c8e-c2b2-802e288f26ca"
      },
      "outputs": [
        {
          "name": "stdout",
          "output_type": "stream",
          "text": [
            "20\n"
          ]
        }
      ],
      "source": [
        "print(x.strftime(\"%y\"))"
      ]
    },
    {
      "cell_type": "code",
      "execution_count": null,
      "metadata": {
        "id": "8HdsZZe73sAQ",
        "outputId": "6e6c43a1-1e94-4d01-b323-01b18a933bb9"
      },
      "outputs": [
        {
          "name": "stdout",
          "output_type": "stream",
          "text": [
            "2020\n"
          ]
        }
      ],
      "source": [
        "print(x.strftime(\"%Y\"))"
      ]
    },
    {
      "cell_type": "code",
      "execution_count": null,
      "metadata": {
        "id": "-8UzLrFO3sAQ",
        "outputId": "eafbcb4a-dc28-40a9-d407-bee25caf272e"
      },
      "outputs": [
        {
          "name": "stdout",
          "output_type": "stream",
          "text": [
            "16\n"
          ]
        }
      ],
      "source": [
        "print(x.strftime(\"%H\"))"
      ]
    },
    {
      "cell_type": "code",
      "execution_count": null,
      "metadata": {
        "id": "irjeUx_A3sAQ",
        "outputId": "2c29c6de-e65b-4c9a-aa5a-7f2afc1fc9b5"
      },
      "outputs": [
        {
          "name": "stdout",
          "output_type": "stream",
          "text": [
            "04\n"
          ]
        }
      ],
      "source": [
        "print(x.strftime(\"%I\"))"
      ]
    },
    {
      "cell_type": "code",
      "execution_count": null,
      "metadata": {
        "id": "Nlb2AKuK3sAR",
        "outputId": "a427191a-1018-4393-c053-43a4330298b8"
      },
      "outputs": [
        {
          "name": "stdout",
          "output_type": "stream",
          "text": [
            "PM\n"
          ]
        }
      ],
      "source": [
        "print(x.strftime(\"%p\"))"
      ]
    },
    {
      "cell_type": "code",
      "execution_count": null,
      "metadata": {
        "id": "X60nKgOD3sAR",
        "outputId": "6033b8fc-f582-4169-cb6d-d95bc354d261"
      },
      "outputs": [
        {
          "name": "stdout",
          "output_type": "stream",
          "text": [
            "11\n"
          ]
        }
      ],
      "source": [
        "print(x.strftime(\"%M\"))"
      ]
    },
    {
      "cell_type": "code",
      "execution_count": null,
      "metadata": {
        "id": "RP4JShTw3sAR",
        "outputId": "1bd72af3-02bd-4ee3-e5f3-ea5402432d6d"
      },
      "outputs": [
        {
          "name": "stdout",
          "output_type": "stream",
          "text": [
            "16\n"
          ]
        }
      ],
      "source": [
        "print(x.strftime(\"%S\"))"
      ]
    },
    {
      "cell_type": "code",
      "execution_count": null,
      "metadata": {
        "id": "yNT-d2St3sAS",
        "outputId": "9b950e35-7d3d-4e11-8bdc-6e8ca2db31be"
      },
      "outputs": [
        {
          "name": "stdout",
          "output_type": "stream",
          "text": [
            "035348\n"
          ]
        }
      ],
      "source": [
        "print(x.strftime(\"%f\"))"
      ]
    },
    {
      "cell_type": "code",
      "execution_count": null,
      "metadata": {
        "id": "GIi5mCHg3sAS",
        "outputId": "7b4887a6-caa3-41e1-e4fd-b8ef3e894c36"
      },
      "outputs": [
        {
          "name": "stdout",
          "output_type": "stream",
          "text": [
            "296\n"
          ]
        }
      ],
      "source": [
        "print(x.strftime(\"%j\"))"
      ]
    },
    {
      "cell_type": "code",
      "execution_count": null,
      "metadata": {
        "id": "OUE08uP13sAS",
        "outputId": "48c10b26-9dd5-4517-9ef4-8eb9d06f4639"
      },
      "outputs": [
        {
          "name": "stdout",
          "output_type": "stream",
          "text": [
            "42\n"
          ]
        }
      ],
      "source": [
        "print(x.strftime(\"%U\"))"
      ]
    },
    {
      "cell_type": "code",
      "execution_count": null,
      "metadata": {
        "id": "API1SEqr3sAS",
        "outputId": "87fc6010-28cb-4217-8a07-80804babc2f2"
      },
      "outputs": [
        {
          "name": "stdout",
          "output_type": "stream",
          "text": [
            "42\n"
          ]
        }
      ],
      "source": [
        "print(x.strftime(\"%W\"))"
      ]
    },
    {
      "cell_type": "code",
      "execution_count": null,
      "metadata": {
        "id": "wA8Xz9uC3sAT",
        "outputId": "d27878df-1b0f-4f43-d425-bd785ba0b0cd"
      },
      "outputs": [
        {
          "name": "stdout",
          "output_type": "stream",
          "text": [
            "Thu Oct 22 16:11:16 2020\n"
          ]
        }
      ],
      "source": [
        "print(x.strftime(\"%c\"))"
      ]
    },
    {
      "cell_type": "code",
      "execution_count": null,
      "metadata": {
        "id": "xwu1lVxy3sAT",
        "outputId": "324b32c5-787b-4358-845b-09c5b3ac649d"
      },
      "outputs": [
        {
          "name": "stdout",
          "output_type": "stream",
          "text": [
            "10/22/20\n"
          ]
        }
      ],
      "source": [
        "print(x.strftime(\"%x\"))"
      ]
    },
    {
      "cell_type": "code",
      "execution_count": null,
      "metadata": {
        "id": "shoqKDHc3sAT",
        "outputId": "0e0bbbf0-212a-4130-beb1-cad7cc1cba3b"
      },
      "outputs": [
        {
          "name": "stdout",
          "output_type": "stream",
          "text": [
            "16:11:16\n"
          ]
        }
      ],
      "source": [
        "print(x.strftime(\"%X\"))"
      ]
    },
    {
      "cell_type": "code",
      "execution_count": null,
      "metadata": {
        "id": "6g1KKze53sAT",
        "outputId": "510a83bf-aa5d-42d3-bfbb-7edce73528bc"
      },
      "outputs": [
        {
          "name": "stdout",
          "output_type": "stream",
          "text": [
            "2020/10/22 16/11/16\n"
          ]
        }
      ],
      "source": [
        "print(x.strftime(\"%Y/%m/%d %H/%M/%S\"))"
      ]
    },
    {
      "cell_type": "code",
      "execution_count": null,
      "metadata": {
        "id": "LK3yiLo23sAT"
      },
      "outputs": [],
      "source": [
        ""
      ]
    }
  ],
  "metadata": {
    "kernelspec": {
      "display_name": "Python 3 (ipykernel)",
      "language": "python",
      "name": "python3"
    },
    "language_info": {
      "codemirror_mode": {
        "name": "ipython",
        "version": 3
      },
      "file_extension": ".py",
      "mimetype": "text/x-python",
      "name": "python",
      "nbconvert_exporter": "python",
      "pygments_lexer": "ipython3",
      "version": "3.9.7"
    },
    "colab": {
      "name": "Date _ Time.ipynb",
      "provenance": [],
      "toc_visible": true
    }
  },
  "nbformat": 4,
  "nbformat_minor": 0
}