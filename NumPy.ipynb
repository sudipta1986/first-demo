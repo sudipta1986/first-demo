{
  "nbformat": 4,
  "nbformat_minor": 0,
  "metadata": {
    "colab": {
      "name": "NumPy.ipynb",
      "provenance": []
    },
    "kernelspec": {
      "name": "python3",
      "display_name": "Python 3"
    },
    "language_info": {
      "name": "python"
    }
  },
  "cells": [
    {
      "cell_type": "markdown",
      "source": [
        "# NumPy"
      ],
      "metadata": {
        "id": "Qky6vbPFyLdK"
      }
    },
    {
      "cell_type": "markdown",
      "source": [
        "- **Numerical python**\n",
        "- Geometrical, calculus, arithmatic\n",
        "- Collection of similar classes\n",
        "- Classes are collection of similar variables and methods\n",
        "- Performing numerical operations in python\n"
      ],
      "metadata": {
        "id": "WBJnLbeqyRYh"
      }
    },
    {
      "cell_type": "markdown",
      "source": [
        "- **Saving Code time**\n",
        "- **No for loops**\n",
        "- **Faster Execution**\n",
        "- **Uses less memory over list**"
      ],
      "metadata": {
        "id": "FRyFtZBdyU_g"
      }
    },
    {
      "cell_type": "code",
      "execution_count": null,
      "metadata": {
        "id": "HChCMf1iU56F"
      },
      "outputs": [],
      "source": [
        "# Adding 2 lists\n",
        "a = [1, 2, 3, 4] # a is a list\n",
        "b = [10, 11, 12, 13] # b is a list\n",
        "\n",
        "# both lists have same length\n",
        "# now we want to add these two lists, element by element\n",
        "print(a + b)\n"
      ]
    },
    {
      "cell_type": "code",
      "source": [
        "## rather than adding them together it concatenated it\n",
        "## so to add them together we have to write a for loop\n",
        "for item1, item2 in zip(a, b):\n",
        "    c = item1 + item2\n",
        "    print (c)\n"
      ],
      "metadata": {
        "id": "KzYXzQ_4yqtH"
      },
      "execution_count": null,
      "outputs": []
    },
    {
      "cell_type": "markdown",
      "source": [
        "### Data structures\n",
        "- Scalar\n",
        "- Vector\n",
        "- Arrays \n",
        "- Matrix (built in)\n",
        "\n",
        "#### Arrays:\n",
        "A Python Array is a collection of common type of data structures having elements with same data type. It is used to store collections of data. In Python programming, an arrays are handled by the “array” module. If you create arrays using the array module, elements of the array must be of the same numeric type.\n",
        "\n",
        "NumPy is used for working with an array. NumPy arrays are called **ndarray** or **N-dimensional arrays** and they store elements of the same type and size.\n",
        "\n",
        "Majority of other libraries are built-on NumPy\n"
      ],
      "metadata": {
        "id": "zn2yRx_vzGwc"
      }
    },
    {
      "cell_type": "markdown",
      "source": [
        "## Importing libraries\n",
        "\n",
        "- We can not just import libraries and call them directly as some libraries names are big\n",
        "- Hence, we use alias such as np for numpy (conventional way)"
      ],
      "metadata": {
        "id": "PeAcZergzXlR"
      }
    },
    {
      "cell_type": "code",
      "source": [
        "# pip install numpy"
      ],
      "metadata": {
        "id": "xxyT6yId6x4c"
      },
      "execution_count": null,
      "outputs": []
    },
    {
      "cell_type": "code",
      "source": [
        "import numpy as np"
      ],
      "metadata": {
        "id": "YLzgb5ByzQEz"
      },
      "execution_count": 4,
      "outputs": []
    },
    {
      "cell_type": "markdown",
      "source": [
        "### Scalar"
      ],
      "metadata": {
        "id": "CUS2E-G1zzlp"
      }
    },
    {
      "cell_type": "code",
      "source": [
        "a = np.array(5)\n",
        "print(a)"
      ],
      "metadata": {
        "id": "VjZTO3QBzbmy"
      },
      "execution_count": null,
      "outputs": []
    },
    {
      "cell_type": "code",
      "source": [
        "a.ndim # number of dimensions"
      ],
      "metadata": {
        "id": "bBEx7IOmz2f2"
      },
      "execution_count": null,
      "outputs": []
    },
    {
      "cell_type": "markdown",
      "source": [
        "### Vector"
      ],
      "metadata": {
        "id": "5cdPXWkMz_J3"
      }
    },
    {
      "cell_type": "code",
      "source": [
        "a = np.array([1, 2, 3])\n",
        "print(a)"
      ],
      "metadata": {
        "id": "me19sHmsz72X"
      },
      "execution_count": null,
      "outputs": []
    },
    {
      "cell_type": "code",
      "source": [
        "a.ndim"
      ],
      "metadata": {
        "id": "tpSOgOpr0BKn"
      },
      "execution_count": null,
      "outputs": []
    },
    {
      "cell_type": "code",
      "source": [
        "a = np.array([[1, 2, 3]])\n",
        "print(a.T) # T is used to transpose the vector"
      ],
      "metadata": {
        "id": "fPuXvQkQ0Lka"
      },
      "execution_count": null,
      "outputs": []
    },
    {
      "cell_type": "markdown",
      "source": [
        "### Matrix"
      ],
      "metadata": {
        "id": "zhcRyrwi0Jay"
      }
    },
    {
      "cell_type": "code",
      "source": [
        "# now we are creating two dimensional array\n",
        "a = np.array([[1, 2, 3], [4, 5, 6], [7, 8, 9]])\n",
        "print(a)"
      ],
      "metadata": {
        "colab": {
          "base_uri": "https://localhost:8080/"
        },
        "id": "bqSncDce0IE3",
        "outputId": "6d93aeac-19f2-4bd2-94dc-905e3e02fd29"
      },
      "execution_count": 11,
      "outputs": [
        {
          "output_type": "stream",
          "name": "stdout",
          "text": [
            "[[1 2 3]\n",
            " [4 5 6]\n",
            " [7 8 9]]\n"
          ]
        }
      ]
    },
    {
      "cell_type": "code",
      "source": [
        "a.ndim"
      ],
      "metadata": {
        "colab": {
          "base_uri": "https://localhost:8080/"
        },
        "id": "MQKBevzr0W5r",
        "outputId": "a390c3cf-027a-4941-8a6d-1ace93fa0510"
      },
      "execution_count": 13,
      "outputs": [
        {
          "output_type": "execute_result",
          "data": {
            "text/plain": [
              "2"
            ]
          },
          "metadata": {},
          "execution_count": 13
        }
      ]
    },
    {
      "cell_type": "code",
      "source": [
        "# now we are creating two dimensional array\n",
        "a = np.matrix([(1, 2, 3), (4, 5, 6)])\n",
        "print(a)\n"
      ],
      "metadata": {
        "id": "UVIUzcsS0ZoH"
      },
      "execution_count": null,
      "outputs": []
    },
    {
      "cell_type": "code",
      "source": [
        "type(a)"
      ],
      "metadata": {
        "id": "b7B5iu1sSUzj"
      },
      "execution_count": null,
      "outputs": []
    },
    {
      "cell_type": "markdown",
      "source": [
        "### shape"
      ],
      "metadata": {
        "id": "v34yx_4kSqk7"
      }
    },
    {
      "cell_type": "code",
      "source": [
        "a = np.matrix([(1, 2, 3), (4, 5, 6)])\n",
        "print(a)\n",
        "a.shape # shape function is used to examine the number of rows and columns"
      ],
      "metadata": {
        "id": "T-yKbAVbSkP8"
      },
      "execution_count": null,
      "outputs": []
    },
    {
      "cell_type": "markdown",
      "source": [
        "### Array of zeros"
      ],
      "metadata": {
        "id": "aRgiYZWvS4wh"
      }
    },
    {
      "cell_type": "code",
      "source": [
        "np.zeros(4) # array having value 4 zeros "
      ],
      "metadata": {
        "id": "YKJAQNsCStY9"
      },
      "execution_count": null,
      "outputs": []
    },
    {
      "cell_type": "code",
      "source": [
        "np.zeros((3,4)) # array having value zero with three rows and four columns"
      ],
      "metadata": {
        "id": "rVeui8VZTAv4"
      },
      "execution_count": null,
      "outputs": []
    },
    {
      "cell_type": "markdown",
      "source": [
        "### Array of ones"
      ],
      "metadata": {
        "id": "Slos7JTlTJjy"
      }
    },
    {
      "cell_type": "code",
      "source": [
        "np.ones(7,dtype=np.int32)"
      ],
      "metadata": {
        "id": "FosIAUD7THaT"
      },
      "execution_count": null,
      "outputs": []
    },
    {
      "cell_type": "code",
      "source": [
        "# Create a multidimensional array of 1\n"
      ],
      "metadata": {
        "id": "sjqfBgtHTdPq"
      },
      "execution_count": null,
      "outputs": []
    },
    {
      "cell_type": "markdown",
      "source": [
        "### Array of constant"
      ],
      "metadata": {
        "id": "1J-MNXBjT3BM"
      }
    },
    {
      "cell_type": "code",
      "source": [
        "np.full((4, 3), 10) # here 4 is no of rows, 3 is no of columns and 10 is a constant value."
      ],
      "metadata": {
        "id": "oQW1TLa_TkB1"
      },
      "execution_count": null,
      "outputs": []
    },
    {
      "cell_type": "markdown",
      "source": [
        "### arange"
      ],
      "metadata": {
        "id": "b6TC1p6qUDym"
      }
    },
    {
      "cell_type": "code",
      "source": [
        "a = np.arange(24, dtype = float) # similar to range function\n",
        "print(a.dtype)\n",
        "print(a)"
      ],
      "metadata": {
        "id": "qZsTHzqvT_S6"
      },
      "execution_count": null,
      "outputs": []
    },
    {
      "cell_type": "code",
      "source": [
        "np.arange(10, 75) # similar to range function"
      ],
      "metadata": {
        "id": "7nTkfw7aULzq"
      },
      "execution_count": null,
      "outputs": []
    },
    {
      "cell_type": "code",
      "source": [
        "np.arange(10, 75, 5) # similar to range function"
      ],
      "metadata": {
        "id": "BOSYSr63UMZV"
      },
      "execution_count": null,
      "outputs": []
    },
    {
      "cell_type": "markdown",
      "source": [
        "### arrange z nos btwn x & y"
      ],
      "metadata": {
        "id": "Qaf09eeDUbha"
      }
    },
    {
      "cell_type": "code",
      "source": [
        "np.linspace(5,10, 4) # here create 4 different data points between 5 and 10 with equal gap\n"
      ],
      "metadata": {
        "id": "bPni_Dc1UdIZ"
      },
      "execution_count": null,
      "outputs": []
    },
    {
      "cell_type": "code",
      "source": [
        "np.linspace(2,10, 3)"
      ],
      "metadata": {
        "id": "G2ZoFWWyUqJ6"
      },
      "execution_count": null,
      "outputs": []
    },
    {
      "cell_type": "markdown",
      "source": [
        "### Random numbers in ndarrays"
      ],
      "metadata": {
        "id": "Ty4cTJ-yU9X3"
      }
    },
    {
      "cell_type": "code",
      "source": [
        "np.random.random((2,2)) # two rows and two columns"
      ],
      "metadata": {
        "colab": {
          "base_uri": "https://localhost:8080/"
        },
        "id": "te4rEitTUrop",
        "outputId": "d5a36a12-6d8a-434c-b138-3987040b78e9"
      },
      "execution_count": 37,
      "outputs": [
        {
          "output_type": "execute_result",
          "data": {
            "text/plain": [
              "array([[0.63600284, 0.54243176],\n",
              "       [0.50916225, 0.30149621]])"
            ]
          },
          "metadata": {},
          "execution_count": 37
        }
      ]
    },
    {
      "cell_type": "code",
      "source": [
        "np.random.random((1,7)) # one row and seven columns"
      ],
      "metadata": {
        "id": "Ld5QDLmPVGI_"
      },
      "execution_count": null,
      "outputs": []
    },
    {
      "cell_type": "code",
      "source": [
        "np.random.random((3,3)) # three rows and three columns"
      ],
      "metadata": {
        "id": "f-xZfDPgVKjL"
      },
      "execution_count": null,
      "outputs": []
    },
    {
      "cell_type": "markdown",
      "source": [
        "### Identity matrix\n",
        "\n",
        "- An Identity matrix is a square matrix that has 1s along its main diagonal and 0s everywhere else."
      ],
      "metadata": {
        "id": "lGpG-urvVSDi"
      }
    },
    {
      "cell_type": "code",
      "source": [
        "np.eye(4)"
      ],
      "metadata": {
        "id": "UpiIXb9qVUc7"
      },
      "execution_count": null,
      "outputs": []
    },
    {
      "cell_type": "code",
      "source": [
        "np.eye(4, k = 1)"
      ],
      "metadata": {
        "id": "hGKzFI0IVXkN"
      },
      "execution_count": null,
      "outputs": []
    },
    {
      "cell_type": "markdown",
      "source": [
        "### The Reshaping of NumPy Arrays"
      ],
      "metadata": {
        "id": "TClOn8-pV5ht"
      }
    },
    {
      "cell_type": "code",
      "source": [
        "a = np.array([[2,3,4],[4,5,6]])\n",
        "print(a)\n",
        "a.shape=(3,2)\n",
        "print(a)"
      ],
      "metadata": {
        "id": "m4T0nChYVpbH"
      },
      "execution_count": null,
      "outputs": []
    },
    {
      "cell_type": "markdown",
      "source": [
        "### Size of NumPy array"
      ],
      "metadata": {
        "id": "0btRcV2HWMpD"
      }
    },
    {
      "cell_type": "code",
      "source": [
        "a = np.array([[2,3,4],[4,5,6]])\n",
        "print(a)\n",
        "print(a.size) # how many values there are in the array using the size attribute\n"
      ],
      "metadata": {
        "id": "t4MVVMvHV-yk"
      },
      "execution_count": null,
      "outputs": []
    },
    {
      "cell_type": "markdown",
      "source": [
        "### flip"
      ],
      "metadata": {
        "id": "nbGf0vwibc_R"
      }
    },
    {
      "cell_type": "code",
      "source": [
        "a = np.array([[1,2,3,4,5],\n",
        "[6,7,8,9,10]])\n",
        "print('Original array :','\\n',a)\n"
      ],
      "metadata": {
        "id": "eU4o--QRbewV"
      },
      "execution_count": null,
      "outputs": []
    },
    {
      "cell_type": "code",
      "source": [
        "print('Reversed array vertically :','\\n',np.flip(a,axis=1))\n"
      ],
      "metadata": {
        "id": "4XPF0L2gbomO"
      },
      "execution_count": null,
      "outputs": []
    },
    {
      "cell_type": "code",
      "source": [
        "print('Reversed array horizontally :','\\n',np.flip(a,axis=0))"
      ],
      "metadata": {
        "id": "I7K9kUqRbp62"
      },
      "execution_count": null,
      "outputs": []
    },
    {
      "cell_type": "code",
      "source": [
        "a = np.array([[1,2,3,4,5],\n",
        "[6,7,8,9,10]])\n",
        "print('Original array :','\\n',a)\n"
      ],
      "metadata": {
        "id": "mG0RKY1jbzOh"
      },
      "execution_count": null,
      "outputs": []
    },
    {
      "cell_type": "code",
      "source": [
        "print('Reversed array :','\\n',a[::-1,::-1])"
      ],
      "metadata": {
        "id": "667ugbK8b12V"
      },
      "execution_count": null,
      "outputs": []
    },
    {
      "cell_type": "markdown",
      "source": [
        "### sort"
      ],
      "metadata": {
        "id": "PTplhuQ7dM2C"
      }
    },
    {
      "cell_type": "code",
      "source": [
        "a = np.array([1,4,2,5,3,6,8,7,9])\n",
        "np.sort(a)"
      ],
      "metadata": {
        "id": "RodMRAHDdO4U"
      },
      "execution_count": null,
      "outputs": []
    },
    {
      "cell_type": "code",
      "source": [
        "a = np.array([[5,6,7,4],\n",
        "              [9,2,3,7]])# sort along the column\n",
        "\n",
        "print(a)"
      ],
      "metadata": {
        "colab": {
          "base_uri": "https://localhost:8080/"
        },
        "id": "dR2LbTqydXYV",
        "outputId": "9deb5df7-a79f-4c3c-c822-95107a97b471"
      },
      "execution_count": 108,
      "outputs": [
        {
          "output_type": "stream",
          "name": "stdout",
          "text": [
            "[[5 6 7 4]\n",
            " [9 2 3 7]]\n"
          ]
        }
      ]
    },
    {
      "cell_type": "code",
      "source": [
        "print(np.sort(a, kind='mergresort',axis=1))"
      ],
      "metadata": {
        "colab": {
          "base_uri": "https://localhost:8080/"
        },
        "id": "IZhQ8Ls0dgzb",
        "outputId": "5e442109-ebfc-4961-f31a-f62043588acf"
      },
      "execution_count": 109,
      "outputs": [
        {
          "output_type": "stream",
          "name": "stdout",
          "text": [
            "[[4 5 6 7]\n",
            " [2 3 7 9]]\n"
          ]
        }
      ]
    },
    {
      "cell_type": "code",
      "source": [
        "# sort along the row\n",
        "print(np.sort(a, kind='mergresort',axis=0))"
      ],
      "metadata": {
        "colab": {
          "base_uri": "https://localhost:8080/"
        },
        "id": "VYk-zzxtddUk",
        "outputId": "bf76c606-962c-4c14-d558-87e9c3cbaa0b"
      },
      "execution_count": 110,
      "outputs": [
        {
          "output_type": "stream",
          "name": "stdout",
          "text": [
            "[[5 2 3 4]\n",
            " [9 6 7 7]]\n"
          ]
        }
      ]
    },
    {
      "cell_type": "markdown",
      "source": [
        "## Basic mathematics using numPy"
      ],
      "metadata": {
        "id": "BmMdF0tCW9PF"
      }
    },
    {
      "cell_type": "code",
      "source": [
        "# Adding 2 lists\n",
        "a = [1, 2, 3, 4] # a is a list\n",
        "b = [10, 11, 12, 13] # b is a list\n",
        "\n",
        "# both lists have same length\n",
        "# now we want to add these two lists, element by element\n",
        "print(a + b)\n"
      ],
      "metadata": {
        "id": "9sXmW8RAWSER"
      },
      "execution_count": null,
      "outputs": []
    },
    {
      "cell_type": "code",
      "source": [
        "a + 10"
      ],
      "metadata": {
        "id": "N8Tv2KlsXCOm"
      },
      "execution_count": null,
      "outputs": []
    },
    {
      "cell_type": "markdown",
      "source": [
        "## Addition using numpy"
      ],
      "metadata": {
        "id": "r6UTd5wKXeoL"
      }
    },
    {
      "cell_type": "code",
      "source": [
        "import numpy as np\n",
        "a = np.array([1, 2, 3, 4]) # a is an array\n",
        "# a + 10 # we can simply do all basic mathematics\n",
        "# a - 10\n",
        "# a * 10\n",
        "# a / 10\n",
        "a // 10"
      ],
      "metadata": {
        "id": "3DSjSvQnXEQb"
      },
      "execution_count": null,
      "outputs": []
    },
    {
      "cell_type": "code",
      "source": [
        "##type 1\n",
        "a = np.array([10, 20])\n",
        "print(a)\n",
        "np.sum([10,20])"
      ],
      "metadata": {
        "id": "dYrbAKkuXL77"
      },
      "execution_count": null,
      "outputs": []
    },
    {
      "cell_type": "code",
      "source": [
        "#type 2\n",
        "a,b = 10,20\n",
        "np.sum([a,b])"
      ],
      "metadata": {
        "id": "sxi1R1x-XOG7"
      },
      "execution_count": null,
      "outputs": []
    },
    {
      "cell_type": "code",
      "source": [
        "#type 3\n",
        "a = np.array([[1, 2], [3, 1]])\n",
        "print(a)\n",
        "np.sum(a, axis=0) # axis o means column wise"
      ],
      "metadata": {
        "id": "9M7BtxLvXPbD"
      },
      "execution_count": null,
      "outputs": []
    },
    {
      "cell_type": "code",
      "source": [
        "#type 4\n",
        "a = np.array([[1, 2], [3, 1]])\n",
        "print(a)\n",
        "np.sum(a, axis=1) # axis 1 means row wise"
      ],
      "metadata": {
        "id": "sud0wIrwXR_D"
      },
      "execution_count": null,
      "outputs": []
    },
    {
      "cell_type": "code",
      "source": [
        "a + 10 # adding a constant value in a matrix"
      ],
      "metadata": {
        "id": "kSFVGy1xXUYx"
      },
      "execution_count": null,
      "outputs": []
    },
    {
      "cell_type": "markdown",
      "source": [
        "### subtraction using numpy"
      ],
      "metadata": {
        "id": "Ik2jGiHgXZFk"
      }
    },
    {
      "cell_type": "code",
      "source": [
        "np.subtract(10,20)"
      ],
      "metadata": {
        "id": "sfPyJcQ_XWjz"
      },
      "execution_count": null,
      "outputs": []
    },
    {
      "cell_type": "markdown",
      "source": [
        "### other maths functions using numpy"
      ],
      "metadata": {
        "id": "IdBKyj60XmPg"
      }
    },
    {
      "cell_type": "code",
      "source": [
        "np.multiply(2,3) #multiply"
      ],
      "metadata": {
        "id": "xdXHN6MnXjyS"
      },
      "execution_count": null,
      "outputs": []
    },
    {
      "cell_type": "code",
      "source": [
        "np.divide(10,5)  #divide"
      ],
      "metadata": {
        "colab": {
          "base_uri": "https://localhost:8080/"
        },
        "id": "lVmI8s9mXsF_",
        "outputId": "afafc7e6-733f-4dcd-be70-b6aa26b05ce8"
      },
      "execution_count": 56,
      "outputs": [
        {
          "output_type": "execute_result",
          "data": {
            "text/plain": [
              "2.0"
            ]
          },
          "metadata": {},
          "execution_count": 56
        }
      ]
    },
    {
      "cell_type": "code",
      "source": [
        "#multiply arrays\n",
        "a = np.array([2,3,4]) \n",
        "b = np.array([5,6,3])\n",
        "np.multiply(a,b) # element wise multiplication"
      ],
      "metadata": {
        "id": "HiIess2bXwzB"
      },
      "execution_count": null,
      "outputs": []
    },
    {
      "cell_type": "code",
      "source": [
        "#exp, sqrt\n",
        "a=[1,2,4]\n",
        "print(\"xyz\", np.exp(a))\n",
        "print(\"square root :\", np.sqrt(a))"
      ],
      "metadata": {
        "id": "VcCU1oCiX14A"
      },
      "execution_count": null,
      "outputs": []
    },
    {
      "cell_type": "markdown",
      "source": [
        "### Basic statistics"
      ],
      "metadata": {
        "id": "XLdVL356X94d"
      }
    },
    {
      "cell_type": "code",
      "source": [
        "age = [23, 34, 27, 30, 32, 31, 33, 26, 28, 25]\n",
        "np.std(age)"
      ],
      "metadata": {
        "id": "dAJPvU-BX7LU"
      },
      "execution_count": null,
      "outputs": []
    },
    {
      "cell_type": "code",
      "source": [
        "np.std(age, ddof = 1) # ddof means the Delta Degrees of Freedom. It actually means n - 1"
      ],
      "metadata": {
        "id": "_M1oVAl6YD-g"
      },
      "execution_count": null,
      "outputs": []
    },
    {
      "cell_type": "code",
      "source": [
        "np.var(age, ddof = 1) # ddof means the Delta Degrees of Freedom. It actually means n - 1"
      ],
      "metadata": {
        "id": "3gAlPeVPYFDs"
      },
      "execution_count": null,
      "outputs": []
    },
    {
      "cell_type": "code",
      "source": [
        "np.mean(age)"
      ],
      "metadata": {
        "id": "tvDc4MieYIaU"
      },
      "execution_count": null,
      "outputs": []
    },
    {
      "cell_type": "code",
      "source": [
        "np.median(age)"
      ],
      "metadata": {
        "id": "2yusemFKYK2t"
      },
      "execution_count": null,
      "outputs": []
    },
    {
      "cell_type": "code",
      "source": [
        "np.min(age)"
      ],
      "metadata": {
        "id": "uEA6BncEYPnE"
      },
      "execution_count": null,
      "outputs": []
    },
    {
      "cell_type": "code",
      "source": [
        "np.max(age)"
      ],
      "metadata": {
        "id": "yLrH75-bYQFG"
      },
      "execution_count": null,
      "outputs": []
    },
    {
      "cell_type": "code",
      "source": [
        "a = np.array([[1,6],\n",
        "[4,3]])\n",
        "# minimum along a column\n",
        "print('Min :',np.min(a,axis=0))\n",
        "# maximum along a row\n",
        "print('Max :',np.max(a,axis=1))"
      ],
      "metadata": {
        "colab": {
          "base_uri": "https://localhost:8080/"
        },
        "id": "Oo9Xs5vUdDK-",
        "outputId": "7ba929f1-8aba-4d1e-d8bf-e6a8a1240727"
      },
      "execution_count": 100,
      "outputs": [
        {
          "output_type": "stream",
          "name": "stdout",
          "text": [
            "Min : [1 3]\n",
            "Max : [6 4]\n"
          ]
        }
      ]
    },
    {
      "cell_type": "markdown",
      "source": [
        "## Boolean indexing"
      ],
      "metadata": {
        "id": "k_oG52CWYVBj"
      }
    },
    {
      "cell_type": "code",
      "source": [
        "# What will be the output of following function?\n",
        "Age = np.array([75, 65, 25, 92, 18, 14, 22])\n",
        "Age <= 18"
      ],
      "metadata": {
        "id": "4RsaFhrOYSlR"
      },
      "execution_count": null,
      "outputs": []
    },
    {
      "cell_type": "code",
      "source": [
        "Age_18 = Age[Age <=18]\n",
        "Age_18"
      ],
      "metadata": {
        "id": "zRZAMlPHYYv3"
      },
      "execution_count": null,
      "outputs": []
    },
    {
      "cell_type": "markdown",
      "source": [
        "## array comparison"
      ],
      "metadata": {
        "id": "m-qHn1gpYdVz"
      }
    },
    {
      "cell_type": "code",
      "source": [
        "import numpy as np\n",
        "\n",
        "# What will be the output of following code?\n",
        "a = [3,2,3]\n",
        "b = [3,2,4]\n",
        "c = [1,2,3]\n",
        "np.equal(a,b)"
      ],
      "metadata": {
        "id": "YnjmZOSZYaOB"
      },
      "execution_count": null,
      "outputs": []
    },
    {
      "cell_type": "code",
      "source": [
        "#array wise comparison\n",
        "a = [1,2,3]\n",
        "b = [1,2,3]\n",
        "c = [1,2,4]\n",
        "np.array_equal(a,c)"
      ],
      "metadata": {
        "id": "m_Bbe4YtYmmd"
      },
      "execution_count": null,
      "outputs": []
    },
    {
      "cell_type": "markdown",
      "source": [
        ""
      ],
      "metadata": {
        "id": "Nd5UmYgPYufj"
      }
    },
    {
      "cell_type": "markdown",
      "source": [
        "## broadcasting\n",
        " - the ability of NumPy to treat arrays of different shapes during arithmetic operations"
      ],
      "metadata": {
        "id": "eIPNCzjGYukv"
      }
    },
    {
      "cell_type": "code",
      "source": [
        "a = np.array([[0,0,0],[10,10,10],[20,20,20],[30,30,30]])\n",
        "b = np.array([1])\n",
        "print(a.shape)\n",
        "print(b.shape)\n",
        "print('First array: \\n',a,'\\n')\n",
        "print('Second array: \\n',b,'\\n')\n",
        "\n",
        "print('total of 1st and 2nd : \\n\\n',a+b)"
      ],
      "metadata": {
        "id": "vAklkaFdYvyK"
      },
      "execution_count": null,
      "outputs": []
    },
    {
      "cell_type": "markdown",
      "source": [
        "## Stacking"
      ],
      "metadata": {
        "id": "N6R-iGdvY8ND"
      }
    },
    {
      "cell_type": "code",
      "source": [
        "a = np.array([1, 2, 3, 4])\n",
        "b = np.array([10, 11, 12, 13])\n"
      ],
      "metadata": {
        "id": "dP4qTmG8YycA"
      },
      "execution_count": 71,
      "outputs": []
    },
    {
      "cell_type": "code",
      "source": [
        "print(np.vstack((a, b))) # vertical stacking"
      ],
      "metadata": {
        "id": "YHbiv-GuY_dU"
      },
      "execution_count": null,
      "outputs": []
    },
    {
      "cell_type": "code",
      "source": [
        "print(np.hstack((a, b))) # horizontal stacking"
      ],
      "metadata": {
        "id": "M1kAOurbZA1-"
      },
      "execution_count": null,
      "outputs": []
    },
    {
      "cell_type": "markdown",
      "source": [
        "## concatenate 2 arrays"
      ],
      "metadata": {
        "id": "irUFNOr7ZcZ2"
      }
    },
    {
      "cell_type": "code",
      "source": [
        "a = np.array([1,2,3])\n",
        "b = np.array([4,5,6])\n",
        "c = np.concatenate((a,b))\n",
        "print(c)"
      ],
      "metadata": {
        "id": "0VOOuL6gZCev"
      },
      "execution_count": null,
      "outputs": []
    },
    {
      "cell_type": "code",
      "source": [
        "#combining col-wise\n",
        "np.column_stack((a,b))"
      ],
      "metadata": {
        "id": "DwHKBC13Zh0V"
      },
      "execution_count": null,
      "outputs": []
    },
    {
      "cell_type": "markdown",
      "source": [
        "## Splitting Array"
      ],
      "metadata": {
        "id": "189Ant3ZZr6I"
      }
    },
    {
      "cell_type": "code",
      "source": [
        "# Syntax: numpy.reshape(array, shape)\n",
        "x = np.arange(16).reshape(4,4) # first array and then shape\n",
        "print(x)"
      ],
      "metadata": {
        "id": "MnrdV9B7ZoDu"
      },
      "execution_count": null,
      "outputs": []
    },
    {
      "cell_type": "code",
      "source": [
        "#split the same array horiz - after 2 cols\n",
        "x = np.arange(16).reshape(4,4)\n",
        "print(x, \"\\n\\n\")\n",
        "np.hsplit(x,2)"
      ],
      "metadata": {
        "id": "zf4j1UX8Zuxx"
      },
      "execution_count": null,
      "outputs": []
    },
    {
      "cell_type": "markdown",
      "source": [
        "## Indexing & Slicing"
      ],
      "metadata": {
        "id": "DoOB1bzrZ66d"
      }
    },
    {
      "cell_type": "code",
      "source": [
        "a = ['n','o','p','e','t','o','h','i','m']\n",
        "a[0:5]"
      ],
      "metadata": {
        "id": "HTRF1j54ZxDl"
      },
      "execution_count": null,
      "outputs": []
    },
    {
      "cell_type": "code",
      "source": [
        "# to slice arrays based on arrays\n",
        "a = np.array([[1,2,3],[4,5,6],[7,8,9]])\n",
        "print(a)\n"
      ],
      "metadata": {
        "colab": {
          "base_uri": "https://localhost:8080/"
        },
        "id": "pKC2dAh5Z-Qr",
        "outputId": "c7947018-3db6-42f2-f0b1-15e35a9c2968"
      },
      "execution_count": 82,
      "outputs": [
        {
          "output_type": "stream",
          "name": "stdout",
          "text": [
            "[[1 2 3]\n",
            " [4 5 6]\n",
            " [7 8 9]]\n"
          ]
        }
      ]
    },
    {
      "cell_type": "code",
      "source": [
        "a[0]"
      ],
      "metadata": {
        "colab": {
          "base_uri": "https://localhost:8080/"
        },
        "id": "FjQlRZghaAH1",
        "outputId": "727c0c23-d21e-4f59-d0cc-122fc6609fcc"
      },
      "execution_count": 83,
      "outputs": [
        {
          "output_type": "execute_result",
          "data": {
            "text/plain": [
              "array([1, 2, 3])"
            ]
          },
          "metadata": {},
          "execution_count": 83
        }
      ]
    },
    {
      "cell_type": "code",
      "source": [
        "# to extract 1st array\n",
        "a[:1]"
      ],
      "metadata": {
        "colab": {
          "base_uri": "https://localhost:8080/"
        },
        "id": "5avgA9mgaD8R",
        "outputId": "d90f6716-8a21-4da7-a59f-2c3c522ddaf5"
      },
      "execution_count": 86,
      "outputs": [
        {
          "output_type": "execute_result",
          "data": {
            "text/plain": [
              "array([[1, 2, 3]])"
            ]
          },
          "metadata": {},
          "execution_count": 86
        }
      ]
    },
    {
      "cell_type": "code",
      "source": [
        "# to extract, 2nd and 3rd element from 1st array\n",
        "a = np.array([[1,2,3],[4,5,6],[7,8,9]])\n",
        "print(a)\n"
      ],
      "metadata": {
        "id": "k49JancbaKy8"
      },
      "execution_count": null,
      "outputs": []
    },
    {
      "cell_type": "code",
      "source": [
        "a[:1,1:]"
      ],
      "metadata": {
        "id": "lpnXqAxqaS9g"
      },
      "execution_count": null,
      "outputs": []
    },
    {
      "cell_type": "code",
      "source": [
        "#to extract only 2,3,5 and 6 from the arrays, i.e.,1st 2 rows (horiz) and after 1st col(vertically)\n",
        "a[:2,1:]"
      ],
      "metadata": {
        "id": "lhFGO9_Bahg5"
      },
      "execution_count": null,
      "outputs": []
    },
    {
      "cell_type": "code",
      "source": [
        "#to extract 5,6,8 and 9 from the array\n",
        "a[1:,1:]"
      ],
      "metadata": {
        "id": "zeL-vBbUajFj"
      },
      "execution_count": null,
      "outputs": []
    },
    {
      "cell_type": "markdown",
      "source": [
        "## reading files"
      ],
      "metadata": {
        "id": "i2W3IUJjgxEa"
      }
    },
    {
      "cell_type": "code",
      "source": [
        "peng = np.genfromtxt(\"penguins_lter.csv\", delimiter=\",\", dtype=str)\n",
        "peng"
      ],
      "metadata": {
        "colab": {
          "base_uri": "https://localhost:8080/"
        },
        "id": "KnAV1tCCcd8T",
        "outputId": "7046816a-fc2b-45f1-8d10-11938e7efe03"
      },
      "execution_count": 124,
      "outputs": [
        {
          "output_type": "execute_result",
          "data": {
            "text/plain": [
              "array([['studyName', 'Sample_Number', 'Species', ...,\n",
              "        'Flipper_Length_mm', 'Body_Mass_g', 'Sex'],\n",
              "       ['PAL0708', '1', 'Adelie', ..., '181', '3750', 'MALE'],\n",
              "       ['PAL0708', '2', 'Adelie', ..., '186', '3800', 'FEMALE'],\n",
              "       ...,\n",
              "       ['PAL0910', '122', 'Gentoo', ..., '222', '5750', 'MALE'],\n",
              "       ['PAL0910', '123', 'Gentoo', ..., '212', '5200', 'FEMALE'],\n",
              "       ['PAL0910', '124', 'Gentoo', ..., '213', '5400', 'MALE']],\n",
              "      dtype='<U17')"
            ]
          },
          "metadata": {},
          "execution_count": 124
        }
      ]
    },
    {
      "cell_type": "code",
      "source": [
        "peng.shape"
      ],
      "metadata": {
        "colab": {
          "base_uri": "https://localhost:8080/"
        },
        "id": "3m3Kxhd_hCev",
        "outputId": "25a1c750-16c8-44eb-d782-029f6eed6c2b"
      },
      "execution_count": 118,
      "outputs": [
        {
          "output_type": "execute_result",
          "data": {
            "text/plain": [
              "(345, 12)"
            ]
          },
          "metadata": {},
          "execution_count": 118
        }
      ]
    },
    {
      "cell_type": "code",
      "source": [
        "# Unique data\n",
        "np.unique(peng[...,0])"
      ],
      "metadata": {
        "colab": {
          "base_uri": "https://localhost:8080/"
        },
        "id": "9FoqLRT1hitj",
        "outputId": "a886c495-dbd5-49e3-fd1c-1a9fd451c1b7"
      },
      "execution_count": 121,
      "outputs": [
        {
          "output_type": "execute_result",
          "data": {
            "text/plain": [
              "array(['PAL0708', 'PAL0809', 'PAL0910', 'studyName'], dtype='<U17')"
            ]
          },
          "metadata": {},
          "execution_count": 121
        }
      ]
    },
    {
      "cell_type": "code",
      "source": [
        "np.unique([peng[...,-1]])"
      ],
      "metadata": {
        "colab": {
          "base_uri": "https://localhost:8080/"
        },
        "id": "xeXAiyEuho_-",
        "outputId": "ca2e2f63-3a2b-467f-ddb7-8b5df9955e1b"
      },
      "execution_count": 122,
      "outputs": [
        {
          "output_type": "execute_result",
          "data": {
            "text/plain": [
              "array(['', '.', 'FEMALE', 'MALE', 'Sex'], dtype='<U17')"
            ]
          },
          "metadata": {},
          "execution_count": 122
        }
      ]
    },
    {
      "cell_type": "code",
      "source": [
        "# Data Filteration\n",
        "Male = peng[peng[...,-1]=='Male']\n",
        "Male"
      ],
      "metadata": {
        "colab": {
          "base_uri": "https://localhost:8080/"
        },
        "id": "P5jPq20OiCNZ",
        "outputId": "d911869a-a74e-4380-b188-913876695fbf"
      },
      "execution_count": 123,
      "outputs": [
        {
          "output_type": "execute_result",
          "data": {
            "text/plain": [
              "array([], shape=(0, 12), dtype='<U17')"
            ]
          },
          "metadata": {},
          "execution_count": 123
        }
      ]
    },
    {
      "cell_type": "code",
      "source": [
        ""
      ],
      "metadata": {
        "id": "vNxGxwqtIl90"
      },
      "execution_count": null,
      "outputs": []
    }
  ]
}